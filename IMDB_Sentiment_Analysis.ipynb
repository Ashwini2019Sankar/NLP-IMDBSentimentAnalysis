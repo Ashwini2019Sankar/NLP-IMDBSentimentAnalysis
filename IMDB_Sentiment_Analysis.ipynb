{
  "nbformat": 4,
  "nbformat_minor": 0,
  "metadata": {
    "colab": {
      "name": "IMDB_Sentiment_Analysis.ipynb",
      "version": "0.3.2",
      "provenance": [],
      "collapsed_sections": []
    },
    "kernelspec": {
      "name": "python3",
      "display_name": "Python 3"
    },
    "accelerator": "GPU"
  },
  "cells": [
    {
      "cell_type": "code",
      "metadata": {
        "id": "h9BnJrUCgkYq",
        "colab_type": "code",
        "outputId": "32652fbb-f93e-4f5c-e024-91d3ecb4f07c",
        "colab": {
          "base_uri": "https://localhost:8080/",
          "height": 34
        }
      },
      "source": [
        "import pandas as pd\n",
        "from pandas import Series\n",
        "from keras.datasets import imdb"
      ],
      "execution_count": 0,
      "outputs": [
        {
          "output_type": "stream",
          "text": [
            "Using TensorFlow backend.\n"
          ],
          "name": "stderr"
        }
      ]
    },
    {
      "cell_type": "code",
      "metadata": {
        "id": "BIDCAWGMzxBk",
        "colab_type": "code",
        "colab": {}
      },
      "source": [
        "import numpy as np\n",
        "# save np.load\n",
        "# np_load_old = np.load\n",
        "\n",
        "# modify the default parameters of np.load\n",
        "# np.load = lambda *a,**k: np_load_old(*a, allow_pickle=True, **k)\n",
        "\n",
        "((X_train, y_train), (X_test, y_test)) = imdb.load_data(num_words=10000, maxlen=500)\n",
        "\n",
        "# np.load = np_load_old"
      ],
      "execution_count": 0,
      "outputs": []
    },
    {
      "cell_type": "code",
      "metadata": {
        "id": "tgMUn99jCsz4",
        "colab_type": "code",
        "colab": {}
      },
      "source": [
        "from keras.preprocessing.sequence import pad_sequences\n",
        "from keras.layers import Conv1D, MaxPooling1D, Embedding\n",
        "from keras.layers import Dense, Input, GlobalMaxPooling1D"
      ],
      "execution_count": 0,
      "outputs": []
    },
    {
      "cell_type": "code",
      "metadata": {
        "id": "No5Icz-sCvD8",
        "colab_type": "code",
        "colab": {}
      },
      "source": [
        "X_train = pad_sequences(X_train, maxlen=500)"
      ],
      "execution_count": 0,
      "outputs": []
    },
    {
      "cell_type": "code",
      "metadata": {
        "id": "Ivwx3Ypc1rwD",
        "colab_type": "code",
        "colab": {}
      },
      "source": [
        "X_test = pad_sequences(X_test, maxlen=500)"
      ],
      "execution_count": 0,
      "outputs": []
    },
    {
      "cell_type": "code",
      "metadata": {
        "id": "pwfa8PoQ13Cd",
        "colab_type": "code",
        "outputId": "c2b5129c-ddc8-4de3-ecef-a07cc0cfa432",
        "colab": {
          "base_uri": "https://localhost:8080/",
          "height": 34
        }
      },
      "source": [
        "X_train.shape"
      ],
      "execution_count": 0,
      "outputs": [
        {
          "output_type": "execute_result",
          "data": {
            "text/plain": [
              "(25000, 500)"
            ]
          },
          "metadata": {
            "tags": []
          },
          "execution_count": 6
        }
      ]
    },
    {
      "cell_type": "code",
      "metadata": {
        "id": "HP4ex7k5C0VM",
        "colab_type": "code",
        "outputId": "a6f5aca9-fd86-43d7-c441-3f384e88e6fe",
        "colab": {
          "base_uri": "https://localhost:8080/",
          "height": 88
        }
      },
      "source": [
        "# load word embeddings into an Embedding layer\n",
        "# note that we set trainable = True so as to keep the embeddings not fixed\n",
        "embedding_layer = Embedding(10000,\n",
        "                            128,\n",
        "                            embeddings_regularizer='l2',\n",
        "                            input_length=500,\n",
        "                            trainable=True)"
      ],
      "execution_count": 0,
      "outputs": [
        {
          "output_type": "stream",
          "text": [
            "WARNING: Logging before flag parsing goes to stderr.\n",
            "W0902 00:36:09.310712 140696410318720 deprecation_wrapper.py:119] From /usr/local/lib/python3.6/dist-packages/keras/backend/tensorflow_backend.py:66: The name tf.get_default_graph is deprecated. Please use tf.compat.v1.get_default_graph instead.\n",
            "\n"
          ],
          "name": "stderr"
        }
      ]
    },
    {
      "cell_type": "code",
      "metadata": {
        "id": "qOIqyvoE15u2",
        "colab_type": "code",
        "outputId": "cddce434-7171-4e3c-ae39-26d1b13eeaa7",
        "colab": {
          "base_uri": "https://localhost:8080/",
          "height": 34
        }
      },
      "source": [
        "print(X_train.shape, X_test.shape, y_train.shape, y_test.shape)"
      ],
      "execution_count": 0,
      "outputs": [
        {
          "output_type": "stream",
          "text": [
            "(25000, 500) (20947, 500) (25000,) (20947,)\n"
          ],
          "name": "stdout"
        }
      ]
    },
    {
      "cell_type": "code",
      "metadata": {
        "id": "VeT6-F1gDGqp",
        "colab_type": "code",
        "outputId": "ee688acc-fc06-4b67-9044-6d951f7936c6",
        "colab": {
          "base_uri": "https://localhost:8080/",
          "height": 1000
        }
      },
      "source": [
        "from keras.models import Model\n",
        "from keras.layers import Flatten\n",
        "from keras.layers import Dropout\n",
        "# train a 1D convnet with global maxpooling\n",
        "sequence_input = Input(shape=(500,), dtype='int32')\n",
        "embedded_sequences = embedding_layer(sequence_input)\n",
        "x = Conv1D(256, 2, activation='relu')(embedded_sequences)\n",
        "#x = MaxPooling1D(2)(x)\n",
        "#x = Conv1D(128, 2, activation='relu')(x)\n",
        "#x = MaxPooling1D(2)(x)\n",
        "# x = Conv1D(32, 5, activation='relu')(x)\n",
        "x = GlobalMaxPooling1D()(x)\n",
        "#x = Flatten(data_format=None)(x)\n",
        "x = Dropout(0.5)(x)\n",
        "#x = Dense(128, activation='relu')(x)\n",
        "preds = Dense(1, activation='sigmoid')(x)\n",
        "\n",
        "model = Model(sequence_input, preds)\n",
        "model.compile(optimizer='adam', loss='binary_crossentropy', metrics = ['accuracy'])\n",
        "#model.compile(optimizer='rmsprop', loss='mean_absolute_error')\n",
        "history = model.fit(X_train, y_train, batch_size=1024, epochs=30, validation_data=(X_test, y_test))"
      ],
      "execution_count": 0,
      "outputs": [
        {
          "output_type": "stream",
          "text": [
            "W0902 00:36:09.989724 140696410318720 deprecation_wrapper.py:119] From /usr/local/lib/python3.6/dist-packages/keras/backend/tensorflow_backend.py:541: The name tf.placeholder is deprecated. Please use tf.compat.v1.placeholder instead.\n",
            "\n",
            "W0902 00:36:10.003116 140696410318720 deprecation_wrapper.py:119] From /usr/local/lib/python3.6/dist-packages/keras/backend/tensorflow_backend.py:4432: The name tf.random_uniform is deprecated. Please use tf.random.uniform instead.\n",
            "\n",
            "W0902 00:36:10.046375 140696410318720 deprecation_wrapper.py:119] From /usr/local/lib/python3.6/dist-packages/keras/backend/tensorflow_backend.py:148: The name tf.placeholder_with_default is deprecated. Please use tf.compat.v1.placeholder_with_default instead.\n",
            "\n",
            "W0902 00:36:10.053664 140696410318720 deprecation.py:506] From /usr/local/lib/python3.6/dist-packages/keras/backend/tensorflow_backend.py:3733: calling dropout (from tensorflow.python.ops.nn_ops) with keep_prob is deprecated and will be removed in a future version.\n",
            "Instructions for updating:\n",
            "Please use `rate` instead of `keep_prob`. Rate should be set to `rate = 1 - keep_prob`.\n",
            "W0902 00:36:10.076325 140696410318720 deprecation_wrapper.py:119] From /usr/local/lib/python3.6/dist-packages/keras/optimizers.py:793: The name tf.train.Optimizer is deprecated. Please use tf.compat.v1.train.Optimizer instead.\n",
            "\n",
            "W0902 00:36:10.092992 140696410318720 deprecation_wrapper.py:119] From /usr/local/lib/python3.6/dist-packages/keras/backend/tensorflow_backend.py:3657: The name tf.log is deprecated. Please use tf.math.log instead.\n",
            "\n",
            "W0902 00:36:10.098724 140696410318720 deprecation.py:323] From /usr/local/lib/python3.6/dist-packages/tensorflow/python/ops/nn_impl.py:180: add_dispatch_support.<locals>.wrapper (from tensorflow.python.ops.array_ops) is deprecated and will be removed in a future version.\n",
            "Instructions for updating:\n",
            "Use tf.where in 2.0, which has the same broadcast rule as np.where\n"
          ],
          "name": "stderr"
        },
        {
          "output_type": "stream",
          "text": [
            "Train on 25000 samples, validate on 20947 samples\n",
            "Epoch 1/30\n",
            "25000/25000 [==============================] - 11s 433us/step - loss: 6.0839 - acc: 0.5700 - val_loss: 2.3157 - val_acc: 0.6032\n",
            "Epoch 2/30\n",
            "25000/25000 [==============================] - 3s 129us/step - loss: 1.2920 - acc: 0.6765 - val_loss: 0.7088 - val_acc: 0.7188\n",
            "Epoch 3/30\n",
            "25000/25000 [==============================] - 3s 130us/step - loss: 0.6024 - acc: 0.7424 - val_loss: 0.5242 - val_acc: 0.7772\n",
            "Epoch 4/30\n",
            "25000/25000 [==============================] - 3s 129us/step - loss: 0.5054 - acc: 0.7880 - val_loss: 0.4778 - val_acc: 0.8057\n",
            "Epoch 5/30\n",
            "25000/25000 [==============================] - 3s 129us/step - loss: 0.4710 - acc: 0.8062 - val_loss: 0.4519 - val_acc: 0.8195\n",
            "Epoch 6/30\n",
            "25000/25000 [==============================] - 3s 130us/step - loss: 0.4467 - acc: 0.8191 - val_loss: 0.4355 - val_acc: 0.8295\n",
            "Epoch 7/30\n",
            "25000/25000 [==============================] - 3s 130us/step - loss: 0.4299 - acc: 0.8332 - val_loss: 0.4237 - val_acc: 0.8352\n",
            "Epoch 8/30\n",
            "25000/25000 [==============================] - 3s 130us/step - loss: 0.4149 - acc: 0.8394 - val_loss: 0.4131 - val_acc: 0.8434\n",
            "Epoch 9/30\n",
            "25000/25000 [==============================] - 3s 131us/step - loss: 0.4049 - acc: 0.8482 - val_loss: 0.4048 - val_acc: 0.8497\n",
            "Epoch 10/30\n",
            "25000/25000 [==============================] - 3s 131us/step - loss: 0.4002 - acc: 0.8535 - val_loss: 0.4008 - val_acc: 0.8546\n",
            "Epoch 11/30\n",
            "25000/25000 [==============================] - 3s 130us/step - loss: 0.3932 - acc: 0.8592 - val_loss: 0.3983 - val_acc: 0.8578\n",
            "Epoch 12/30\n",
            "25000/25000 [==============================] - 3s 131us/step - loss: 0.3862 - acc: 0.8624 - val_loss: 0.3930 - val_acc: 0.8596\n",
            "Epoch 13/30\n",
            "25000/25000 [==============================] - 3s 131us/step - loss: 0.3821 - acc: 0.8678 - val_loss: 0.3899 - val_acc: 0.8616\n",
            "Epoch 14/30\n",
            "25000/25000 [==============================] - 3s 131us/step - loss: 0.3777 - acc: 0.8719 - val_loss: 0.3996 - val_acc: 0.8551\n",
            "Epoch 15/30\n",
            "25000/25000 [==============================] - 3s 132us/step - loss: 0.3768 - acc: 0.8717 - val_loss: 0.3845 - val_acc: 0.8642\n",
            "Epoch 16/30\n",
            "25000/25000 [==============================] - 3s 131us/step - loss: 0.3708 - acc: 0.8764 - val_loss: 0.3879 - val_acc: 0.8660\n",
            "Epoch 17/30\n",
            "25000/25000 [==============================] - 3s 131us/step - loss: 0.3661 - acc: 0.8771 - val_loss: 0.3844 - val_acc: 0.8670\n",
            "Epoch 18/30\n",
            "25000/25000 [==============================] - 3s 132us/step - loss: 0.3645 - acc: 0.8771 - val_loss: 0.3824 - val_acc: 0.8680\n",
            "Epoch 19/30\n",
            "25000/25000 [==============================] - 3s 132us/step - loss: 0.3564 - acc: 0.8830 - val_loss: 0.3780 - val_acc: 0.8694\n",
            "Epoch 20/30\n",
            "25000/25000 [==============================] - 3s 133us/step - loss: 0.3561 - acc: 0.8817 - val_loss: 0.3777 - val_acc: 0.8708\n",
            "Epoch 21/30\n",
            "25000/25000 [==============================] - 3s 132us/step - loss: 0.3518 - acc: 0.8856 - val_loss: 0.3786 - val_acc: 0.8699\n",
            "Epoch 22/30\n",
            "25000/25000 [==============================] - 3s 132us/step - loss: 0.3498 - acc: 0.8885 - val_loss: 0.3762 - val_acc: 0.8712\n",
            "Epoch 23/30\n",
            "25000/25000 [==============================] - 3s 133us/step - loss: 0.3519 - acc: 0.8862 - val_loss: 0.3826 - val_acc: 0.8700\n",
            "Epoch 24/30\n",
            "25000/25000 [==============================] - 3s 133us/step - loss: 0.3473 - acc: 0.8882 - val_loss: 0.3779 - val_acc: 0.8734\n",
            "Epoch 25/30\n",
            "25000/25000 [==============================] - 3s 133us/step - loss: 0.3484 - acc: 0.8899 - val_loss: 0.3793 - val_acc: 0.8714\n",
            "Epoch 26/30\n",
            "25000/25000 [==============================] - 3s 133us/step - loss: 0.3389 - acc: 0.8936 - val_loss: 0.3826 - val_acc: 0.8714\n",
            "Epoch 27/30\n",
            "25000/25000 [==============================] - 3s 133us/step - loss: 0.3381 - acc: 0.8953 - val_loss: 0.3760 - val_acc: 0.8734\n",
            "Epoch 28/30\n",
            "25000/25000 [==============================] - 3s 134us/step - loss: 0.3373 - acc: 0.8944 - val_loss: 0.3806 - val_acc: 0.8726\n",
            "Epoch 29/30\n",
            "25000/25000 [==============================] - 3s 134us/step - loss: 0.3380 - acc: 0.8970 - val_loss: 0.3813 - val_acc: 0.8716\n",
            "Epoch 30/30\n",
            "25000/25000 [==============================] - 3s 134us/step - loss: 0.3374 - acc: 0.8965 - val_loss: 0.3785 - val_acc: 0.8739\n"
          ],
          "name": "stdout"
        }
      ]
    },
    {
      "cell_type": "code",
      "metadata": {
        "id": "SHszIYCe-ja4",
        "colab_type": "code",
        "outputId": "f1b38a4d-62e7-4dc7-f92a-af798755a7c9",
        "colab": {
          "base_uri": "https://localhost:8080/",
          "height": 590
        }
      },
      "source": [
        "import matplotlib.pyplot as plt\n",
        "\n",
        "# Plot training & validation accuracy values\n",
        "plt.plot(history.history['acc'])\n",
        "plt.plot(history.history['val_acc'])\n",
        "plt.title('Model accuracy')\n",
        "plt.ylabel('Accuracy')\n",
        "plt.xlabel('Epoch')\n",
        "plt.legend(['Train', 'Test'], loc='upper left')\n",
        "plt.show()\n",
        "\n",
        "# Plot training & validation loss values\n",
        "plt.plot(history.history['loss'])\n",
        "plt.plot(history.history['val_loss'])\n",
        "plt.title('Model loss')\n",
        "plt.ylabel('Loss')\n",
        "plt.xlabel('Epoch')\n",
        "plt.legend(['Train', 'Test'], loc='upper left')"
      ],
      "execution_count": 0,
      "outputs": [
        {
          "output_type": "display_data",
          "data": {
            "image/png": "[encoded data removed]",
            "text/plain": [
              "<Figure size 432x288 with 1 Axes>"
            ]
          },
          "metadata": {
            "tags": []
          }
        },
        {
          "output_type": "execute_result",
          "data": {
            "text/plain": [
              "<matplotlib.legend.Legend at 0x7ff61106dd68>"
            ]
          },
          "metadata": {
            "tags": []
          },
          "execution_count": 10
        },
        {
          "output_type": "display_data",
          "data": {
            "image/png": "[encoded data removed]",
            "text/plain": [
              "<Figure size 432x288 with 1 Axes>"
            ]
          },
          "metadata": {
            "tags": []
          }
        }
      ]
    },
    {
      "cell_type": "code",
      "metadata": {
        "id": "y-M3WT1u9dgT",
        "colab_type": "code",
        "colab": {}
      },
      "source": [
        "def ScoreModel(embedding_dim, embedding_reg, num_conv_layers, num_fc_layers, batch_size, X_train, y_train, X_test, y_test):\n",
        "  embedding_layer = Embedding(10000,\n",
        "                              embedding_dim,\n",
        "                              embeddings_regularizer=embedding_reg,\n",
        "                              input_length=500,\n",
        "                              trainable=True)\n",
        "  sequence_input = Input(shape=(500,), dtype='int32')\n",
        "  x = embedding_layer(sequence_input)\n",
        "  for i in range(num_conv_layers):\n",
        "    x = Conv1D(256, 2, activation='relu')(x)\n",
        "    x = MaxPooling1D(2)(x)\n",
        "\n",
        "  x = GlobalMaxPooling1D()(x)\n",
        "#  x = Flatten()(x)\n",
        "  for i in range(num_fc_layers):\n",
        "    x = Dropout(0.5)(x)\n",
        "    x = Dense(64, activation='relu')(x)\n",
        "  x = Dropout(0.5)(x)\n",
        "\n",
        "  #x = Dense(128, activation='relu')(x)\n",
        "  preds = Dense(1, activation='sigmoid')(x)\n",
        "\n",
        "  model = Model(sequence_input, preds)\n",
        "  model.compile(optimizer='adam', loss='binary_crossentropy', metrics = ['accuracy'])\n",
        "  #model.compile(optimizer='rmsprop', loss='mean_absolute_error')\n",
        "  history = model.fit(X_train, y_train, batch_size=batch_size, epochs=10, validation_data=(X_test, y_test), verbose=0)\n",
        "  return history.history['val_acc'][-1]"
      ],
      "execution_count": 0,
      "outputs": []
    },
    {
      "cell_type": "code",
      "metadata": {
        "id": "amAZ_YnIIkIc",
        "colab_type": "code",
        "outputId": "6b825f85-41f6-4a0d-8411-68c4cddd84a9",
        "colab": {
          "base_uri": "https://localhost:8080/",
          "height": 1000
        }
      },
      "source": [
        "from sklearn.model_selection import KFold\n",
        "\n",
        "best_score = 0\n",
        "best_params = {}\n",
        "\n",
        "for embedding_dim in [64, 128]:\n",
        "  for embedding_reg in [None, 'l2']:\n",
        "    for num_conv_layers in [1, 2]:\n",
        "      for num_fc_layers in [0, 1]:\n",
        "        for batch_size in [64, 256]:\n",
        "          cv = KFold(5)\n",
        "          sum_score = 0\n",
        "          params = {'embedding_dim': embedding_dim,\n",
        "                    'embedding_reg': embedding_reg,\n",
        "                    'num_conv_layers': num_conv_layers,\n",
        "                    'num_fc_layers': num_fc_layers,\n",
        "                    'batch_size': batch_size}\n",
        "          print(\"running cv for params: {}\".format(params))\n",
        "          for train_idx, test_idx in cv.split(X_train):\n",
        "            x_train_cv = X_train[train_idx]\n",
        "            y_train_cv = y_train[train_idx]\n",
        "            x_test_cv = X_train[test_idx]\n",
        "            y_test_cv = y_train[test_idx]\n",
        "            score = ScoreModel(embedding_dim=embedding_dim, \n",
        "                              embedding_reg=embedding_reg, \n",
        "                              num_conv_layers=num_conv_layers,\n",
        "                              num_fc_layers=num_fc_layers,\n",
        "                              batch_size=batch_size,\n",
        "                              X_train=x_train_cv,\n",
        "                              y_train=y_train_cv,\n",
        "                              X_test=x_test_cv,\n",
        "                              y_test=y_test_cv)\n",
        "            sum_score += score\n",
        "          mean_score = sum_score / 5\n",
        "          print(\"avg score: {}\".format(mean_score))\n",
        "          if mean_score > best_score:\n",
        "            best_score = mean_score\n",
        "            best_params = params\n",
        "\n",
        "print(\"DONE, best score: {}; best params: {}\".format(best_score, best_params))"
      ],
      "execution_count": 0,
      "outputs": [
        {
          "output_type": "stream",
          "text": [
            "W0902 00:39:10.802697 140696410318720 deprecation_wrapper.py:119] From /usr/local/lib/python3.6/dist-packages/keras/backend/tensorflow_backend.py:4267: The name tf.nn.max_pool is deprecated. Please use tf.nn.max_pool2d instead.\n",
            "\n"
          ],
          "name": "stderr"
        },
        {
          "output_type": "stream",
          "text": [
            "running cv for params: {'embedding_dim': 64, 'embedding_reg': None, 'num_conv_layers': 1, 'num_fc_layers': 0, 'batch_size': 64}\n",
            "avg score: 0.85992\n",
            "running cv for params: {'embedding_dim': 64, 'embedding_reg': None, 'num_conv_layers': 1, 'num_fc_layers': 0, 'batch_size': 256}\n",
            "avg score: 0.8639600001907348\n",
            "running cv for params: {'embedding_dim': 64, 'embedding_reg': None, 'num_conv_layers': 1, 'num_fc_layers': 1, 'batch_size': 64}\n",
            "avg score: 0.8692400000000001\n",
            "running cv for params: {'embedding_dim': 64, 'embedding_reg': None, 'num_conv_layers': 1, 'num_fc_layers': 1, 'batch_size': 256}\n",
            "avg score: 0.8714799998474121\n",
            "running cv for params: {'embedding_dim': 64, 'embedding_reg': None, 'num_conv_layers': 2, 'num_fc_layers': 0, 'batch_size': 64}\n",
            "avg score: 0.85448\n",
            "running cv for params: {'embedding_dim': 64, 'embedding_reg': None, 'num_conv_layers': 2, 'num_fc_layers': 0, 'batch_size': 256}\n",
            "avg score: 0.8462400000762939\n",
            "running cv for params: {'embedding_dim': 64, 'embedding_reg': None, 'num_conv_layers': 2, 'num_fc_layers': 1, 'batch_size': 64}\n",
            "avg score: 0.8535999999999999\n",
            "running cv for params: {'embedding_dim': 64, 'embedding_reg': None, 'num_conv_layers': 2, 'num_fc_layers': 1, 'batch_size': 256}\n",
            "avg score: 0.8488399997520446\n",
            "running cv for params: {'embedding_dim': 64, 'embedding_reg': 'l2', 'num_conv_layers': 1, 'num_fc_layers': 0, 'batch_size': 64}\n",
            "avg score: 0.8463200000000001\n",
            "running cv for params: {'embedding_dim': 64, 'embedding_reg': 'l2', 'num_conv_layers': 1, 'num_fc_layers': 0, 'batch_size': 256}\n",
            "avg score: 0.8444399998855591\n",
            "running cv for params: {'embedding_dim': 64, 'embedding_reg': 'l2', 'num_conv_layers': 1, 'num_fc_layers': 1, 'batch_size': 64}\n",
            "avg score: 0.85808\n",
            "running cv for params: {'embedding_dim': 64, 'embedding_reg': 'l2', 'num_conv_layers': 1, 'num_fc_layers': 1, 'batch_size': 256}\n",
            "avg score: 0.8615599997329711\n",
            "running cv for params: {'embedding_dim': 64, 'embedding_reg': 'l2', 'num_conv_layers': 2, 'num_fc_layers': 0, 'batch_size': 64}\n",
            "avg score: 0.86584\n",
            "running cv for params: {'embedding_dim': 64, 'embedding_reg': 'l2', 'num_conv_layers': 2, 'num_fc_layers': 0, 'batch_size': 256}\n",
            "avg score: 0.8617599999427796\n",
            "running cv for params: {'embedding_dim': 64, 'embedding_reg': 'l2', 'num_conv_layers': 2, 'num_fc_layers': 1, 'batch_size': 64}\n",
            "avg score: 0.8678799999999999\n",
            "running cv for params: {'embedding_dim': 64, 'embedding_reg': 'l2', 'num_conv_layers': 2, 'num_fc_layers': 1, 'batch_size': 256}\n",
            "avg score: 0.8576000000190735\n",
            "running cv for params: {'embedding_dim': 128, 'embedding_reg': None, 'num_conv_layers': 1, 'num_fc_layers': 0, 'batch_size': 64}\n",
            "avg score: 0.8636399999999999\n",
            "running cv for params: {'embedding_dim': 128, 'embedding_reg': None, 'num_conv_layers': 1, 'num_fc_layers': 0, 'batch_size': 256}\n",
            "avg score: 0.8660000001907349\n",
            "running cv for params: {'embedding_dim': 128, 'embedding_reg': None, 'num_conv_layers': 1, 'num_fc_layers': 1, 'batch_size': 64}\n",
            "avg score: 0.87088\n",
            "running cv for params: {'embedding_dim': 128, 'embedding_reg': None, 'num_conv_layers': 1, 'num_fc_layers': 1, 'batch_size': 256}\n",
            "avg score: 0.8764000001907348\n",
            "running cv for params: {'embedding_dim': 128, 'embedding_reg': None, 'num_conv_layers': 2, 'num_fc_layers': 0, 'batch_size': 64}\n",
            "avg score: 0.8624\n",
            "running cv for params: {'embedding_dim': 128, 'embedding_reg': None, 'num_conv_layers': 2, 'num_fc_layers': 0, 'batch_size': 256}\n",
            "avg score: 0.8486799995803833\n",
            "running cv for params: {'embedding_dim': 128, 'embedding_reg': None, 'num_conv_layers': 2, 'num_fc_layers': 1, 'batch_size': 64}\n",
            "avg score: 0.8602000000000001\n",
            "running cv for params: {'embedding_dim': 128, 'embedding_reg': None, 'num_conv_layers': 2, 'num_fc_layers': 1, 'batch_size': 256}\n",
            "avg score: 0.8576800001716613\n",
            "running cv for params: {'embedding_dim': 128, 'embedding_reg': 'l2', 'num_conv_layers': 1, 'num_fc_layers': 0, 'batch_size': 64}\n",
            "avg score: 0.8394400000000001\n",
            "running cv for params: {'embedding_dim': 128, 'embedding_reg': 'l2', 'num_conv_layers': 1, 'num_fc_layers': 0, 'batch_size': 256}\n",
            "avg score: 0.846600000152588\n",
            "running cv for params: {'embedding_dim': 128, 'embedding_reg': 'l2', 'num_conv_layers': 1, 'num_fc_layers': 1, 'batch_size': 64}\n",
            "avg score: 0.8518399999999999\n",
            "running cv for params: {'embedding_dim': 128, 'embedding_reg': 'l2', 'num_conv_layers': 1, 'num_fc_layers': 1, 'batch_size': 256}\n",
            "avg score: 0.861639999847412\n",
            "running cv for params: {'embedding_dim': 128, 'embedding_reg': 'l2', 'num_conv_layers': 2, 'num_fc_layers': 0, 'batch_size': 64}\n",
            "avg score: 0.8644000000000001\n",
            "running cv for params: {'embedding_dim': 128, 'embedding_reg': 'l2', 'num_conv_layers': 2, 'num_fc_layers': 0, 'batch_size': 256}\n",
            "avg score: 0.8636000004959108\n",
            "running cv for params: {'embedding_dim': 128, 'embedding_reg': 'l2', 'num_conv_layers': 2, 'num_fc_layers': 1, 'batch_size': 64}\n",
            "avg score: 0.86532\n",
            "running cv for params: {'embedding_dim': 128, 'embedding_reg': 'l2', 'num_conv_layers': 2, 'num_fc_layers': 1, 'batch_size': 256}\n",
            "avg score: 0.8617999998664857\n",
            "DONE, best score: 0.8764000001907348; best params: {'embedding_dim': 128, 'embedding_reg': None, 'num_conv_layers': 1, 'num_fc_layers': 1, 'batch_size': 256}\n"
          ],
          "name": "stdout"
        }
      ]
    },
    {
      "cell_type": "markdown",
      "metadata": {
        "id": "CPGfoS_E4vMQ",
        "colab_type": "text"
      },
      "source": [
        "The best parameters are : \n",
        "\"Embedding dimension\" : 128\n",
        "\"Embedding Regularizer\" : None\n",
        "\"Number of Conv layers\" : 1\n",
        "\"Number of FC layers\" : 1\n",
        "\"Batch_size\" : 256"
      ]
    }
  ]
}